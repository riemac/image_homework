{
 "cells": [
  {
   "cell_type": "markdown",
   "metadata": {},
   "source": [
    "# 图像处理实验\n",
    "\n",
    "这个笔记本用于实验和调试图像处理算法。"
   ]
  },
  {
   "cell_type": "code",
   "execution_count": null,
   "metadata": {},
   "source": [
    "import sys\n",
    "import os\n",
    "import cv2\n",
    "import numpy as np\n",
    "import matplotlib.pyplot as plt\n",
    "\n",
    "# 添加项目根目录到路径\n",
    "sys.path.append('..')\n",
    "\n",
    "from src.utils.image_io import read_image, save_image\n",
    "from src.utils.color_space import adjust_brightness, adjust_contrast, adjust_saturation\n",
    "from src.utils.filters import gaussian_blur, bilateral_filter, unsharp_mask, edge_detection\n",
    "import src.config as config\n",
    "\n",
    "# 设置matplotlib显示中文\n",
    "plt.rcParams['font.sans-serif'] = ['SimHei']  # 用来正常显示中文标签\n",
    "plt.rcParams['axes.unicode_minus'] = False  # 用来正常显示负号"
   ]
  },
  {
   "cell_type": "markdown",
   "metadata": {},
   "source": [
    "## 1. 图像读取与显示"
   ]
  },
  {
   "cell_type": "code",
   "execution_count": null,
   "metadata": {},
   "source": [
    "def display_images(images, titles, figsize=(15, 10)):\n",
    "    \"\"\"显示多张图像\"\"\"\n",
    "    n = len(images)\n",
    "    fig, axes = plt.subplots(1, n, figsize=figsize)\n",
    "    \n",
    "    if n == 1:\n",
    "        axes = [axes]\n",
    "    \n",
    "    for i, (image, title) in enumerate(zip(images, titles)):\n",
    "        if len(image.shape) == 2 or image.shape[2] == 1:  # 灰度图\n",
    "            axes[i].imshow(image, cmap='gray')\n",
    "        else:  # RGB图\n",
    "            axes[i].imshow(image)\n",
    "        \n",
    "        axes[i].set_title(title)\n",
    "        axes[i].axis('off')\n",
    "    \n",
    "    plt.tight_layout()\n",
    "    plt.show()"
   ]
  },
  {
   "cell_type": "code",
   "execution_count": null,
   "metadata": {},
   "source": [
    "# 读取美女图像\n",
    "beauty_img = read_image(config.BEAUTY_IMAGE_PATH)\n",
    "display_images([beauty_img], ['原始美女图像'])"
   ]
  },
  {
   "cell_type": "markdown",
   "metadata": {},
   "source": [
    "## 2. 美化效果实验"
   ]
  },
  {
   "cell_type": "code",
   "execution_count": null,
   "metadata": {},
   "source": [
    "# 实验不同的亮度参数\n",
    "brightness_factors = [0.8, 1.0, 1.2]\n",
    "brightness_results = [adjust_brightness(beauty_img, factor) for factor in brightness_factors]\n",
    "titles = [f'亮度因子={factor}' for factor in brightness_factors]\n",
    "display_images(brightness_results, titles)"
   ]
  },
  {
   "cell_type": "code",
   "execution_count": null,
   "metadata": {},
   "source": [
    "# 实验不同的对比度参数\n",
    "contrast_factors = [0.8, 1.0, 1.2]\n",
    "contrast_results = [adjust_contrast(beauty_img, factor) for factor in contrast_factors]\n",
    "titles = [f'对比度因子={factor}' for factor in contrast_factors]\n",
    "display_images(contrast_results, titles)"
   ]
  },
  {
   "cell_type": "code",
   "execution_count": null,
   "metadata": {},
   "source": [
    "# 实验不同的饱和度参数\n",
    "saturation_factors = [0.8, 1.0, 1.3]\n",
    "saturation_results = [adjust_saturation(beauty_img, factor) for factor in saturation_factors]\n",
    "titles = [f'饱和度因子={factor}' for factor in saturation_factors]\n",
    "display_images(saturation_results, titles)"
   ]
  },
  {
   "cell_type": "code",
   "execution_count": null,
   "metadata": {},
   "source": [
    "# 实验不同的锐化参数\n",
    "sharpness_factors = [1.0, 1.5, 2.0]\n",
    "sharpness_results = [unsharp_mask(beauty_img, kernel_size=5, strength=factor) for factor in sharpness_factors]\n",
    "titles = [f'锐化强度={factor}' for factor in sharpness_factors]\n",
    "display_images(sharpness_results, titles)"
   ]
  },
  {
   "cell_type": "markdown",
   "metadata": {},
   "source": [
    "## 3. 苹果梨子融合实验"
   ]
  },
  {
   "cell_type": "code",
   "execution_count": null,
   "metadata": {},
   "source": [
    "# 读取苹果和梨子图像\n",
    "apple_img = read_image(config.APPLE_IMAGE_PATH)\n",
    "pear_img = read_image(config.PEAR_IMAGE_PATH)\n",
    "\n",
    "# 调整梨子图像大小以匹配苹果图像\n",
    "h, w = apple_img.shape[:2]\n",
    "pear_img = cv2.resize(pear_img, (w, h))\n",
    "\n",
    "display_images([apple_img, pear_img], ['苹果图像', '梨子图像'])"
   ]
  },
  {
   "cell_type": "code",
   "execution_count": null,
   "metadata": {},
   "source": [
    "# 实验不同的融合比例\n",
    "alphas = [0.3, 0.5, 0.7]\n",
    "blend_results = [cv2.addWeighted(apple_img, alpha, pear_img, 1-alpha, 0) for alpha in alphas]\n",
    "titles = [f'融合比例={alpha}' for alpha in alphas]\n",
    "display_images(blend_results, titles)"
   ]
  },
  {
   "cell_type": "code",
   "execution_count": null,
   "metadata": {},
   "source": [
    "# 边缘检测实验\n",
    "apple_edges = edge_detection(apple_img, method='sobel')\n",
    "pear_edges = edge_detection(pear_img, method='sobel')\n",
    "display_images([apple_edges, pear_edges], ['苹果边缘', '梨子边缘'])"
   ]
  }
 ],
 "metadata": {
  "kernelspec": {
   "display_name": "Python 3",
   "language": "python",
   "name": "python3"
  },
  "language_info": {
   "codemirror_mode": {
    "name": "ipython",
    "version": 3
   },
   "file_extension": ".py",
   "mimetype": "text/x-python",
   "name": "python",
   "nbconvert_exporter": "python",
   "pygments_lexer": "ipython3",
   "version": "3.12.0"
  }
 },
 "nbformat": 4,
 "nbformat_minor": 4
}